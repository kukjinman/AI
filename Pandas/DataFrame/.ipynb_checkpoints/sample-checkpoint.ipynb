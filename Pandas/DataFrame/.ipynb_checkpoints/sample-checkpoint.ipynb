{
 "cells": [
  {
   "cell_type": "code",
   "execution_count": 6,
   "id": "e8d03dba",
   "metadata": {},
   "outputs": [
    {
     "name": "stdout",
     "output_type": "stream",
     "text": [
      "(442, 10)\n",
      "(354, 10)\n",
      "(88, 10)\n"
     ]
    }
   ],
   "source": [
    "#scikit Learn에서 제공하는 diabete 데이터 예시로 사용\n",
    "\n",
    "from sklearn.datasets import load_diabetes\n",
    "diabetes = load_diabetes(as_frame=True)\n",
    "df_dia = diabetes.data\n",
    "\n",
    "print(df_dia.shape)\n",
    "\n",
    "\n",
    "\"\"\"\n",
    "[DataFrame.sample(frac, n, replace, random_state)]\n",
    "\n",
    "frac\n",
    "전체 행에서 몇 %만 추출할 것인가\n",
    "0~1까지의 값을 넣을 수 있다.\n",
    "\n",
    "n\n",
    "몇개의 행을 추출할 것인가\n",
    "\n",
    "* frac과 n은 동시에 쓸 수 없다.\n",
    "\n",
    "replace=False\n",
    "default는 중복 비허용\n",
    "\n",
    "random_state\n",
    "설정 시 결과 고정\n",
    "\"\"\"\n",
    "\n",
    "\n",
    "train_diabetes = df_dia.sample(frac=0.8,random_state=0)\n",
    "test_diabetes = df_dia.drop(train_diabetes.index)\n",
    "\n",
    "print(train_diabetes.shape)\n",
    "print(test_diabetes.shape)\n"
   ]
  },
  {
   "cell_type": "code",
   "execution_count": null,
   "id": "7a7a319b",
   "metadata": {},
   "outputs": [],
   "source": []
  }
 ],
 "metadata": {
  "kernelspec": {
   "display_name": "Python 3 (ipykernel)",
   "language": "python",
   "name": "python3"
  },
  "language_info": {
   "codemirror_mode": {
    "name": "ipython",
    "version": 3
   },
   "file_extension": ".py",
   "mimetype": "text/x-python",
   "name": "python",
   "nbconvert_exporter": "python",
   "pygments_lexer": "ipython3",
   "version": "3.9.7"
  }
 },
 "nbformat": 4,
 "nbformat_minor": 5
}
