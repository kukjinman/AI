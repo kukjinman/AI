{
 "cells": [
  {
   "cell_type": "markdown",
   "metadata": {},
   "source": [
    "# 1번 문제"
   ]
  },
  {
   "cell_type": "code",
   "execution_count": 1,
   "metadata": {},
   "outputs": [
    {
     "name": "stdout",
     "output_type": "stream",
     "text": [
      "Enter person's name: kim\n",
      "Enter number of hours worked: 45\n",
      "Enter hourly wage: 20\n",
      "Pay for kim: $950.00\n"
     ]
    }
   ],
   "source": [
    "class Wages:\n",
    "    def __init__(self, name=\"\", hours=0.0, wage=0.0):\n",
    "        self._name = name\n",
    "        self._hours = hours\n",
    "        self._wage = wage\n",
    "    def setName(self, name):\n",
    "        self._name = name\n",
    "    def getName(self):\n",
    "        return self._name\n",
    "    def setHours(self, hours):\n",
    "        self._hours = hours\n",
    "    def getHours(self):\n",
    "        return self._hours\n",
    "    def setWage(self, wage):\n",
    "        self._wage = wage\n",
    "    def getHours(self):\n",
    "        return self._hours\n",
    "    def payForWeek(self):\n",
    "        amount = self._hours * self._wage\n",
    "        if self._hours > 40:\n",
    "            amount = 40 * self._wage + ((self._hours - 40) * (1.5 * self._wage))\n",
    "        return \"${0:,.2f}\".format(amount)\n",
    "\n",
    "salary = Wages()\n",
    "name = input(\"Enter person's name: \")\n",
    "salary.setName(name)\n",
    "hours = float(input(\"Enter number of hours worked: \"))\n",
    "salary.setHours(hours)\n",
    "wage = float(input(\"Enter hourly wage: \"))\n",
    "salary.setWage(wage)\n",
    "print(\"Pay for\", salary.getName() + ':', salary.payForWeek())\n"
   ]
  },
  {
   "cell_type": "code",
   "execution_count": null,
   "metadata": {},
   "outputs": [],
   "source": []
  },
  {
   "cell_type": "markdown",
   "metadata": {},
   "source": [
    "# 2번 문제"
   ]
  },
  {
   "cell_type": "code",
   "execution_count": 2,
   "metadata": {},
   "outputs": [],
   "source": [
    "def getSetOfNewColors():\n",
    "    infile = open(\"Pre1990.txt\", 'r')\n",
    "    colors = {line.rstrip() for line in infile}\n",
    "    infile.close()\n",
    "    infile = open(\"Retired.txt\", 'r')\n",
    "    retiredColors = {line.rstrip() for line in infile}\n",
    "    infile.close()\n",
    "    infile = open(\"Added.txt\", 'r')\n",
    "    addedColors = {line.rstrip() for line in infile}\n",
    "    infile.close()\n",
    "    colorSet = colors.difference(retiredColors)\n",
    "    colorSet = colorSet.union(addedColors)\n",
    "    return colorSet\n",
    "\n",
    "\n",
    "def createFileOfNewColors(setOfNewColors):\n",
    "    orderedListOfColors = sorted(setOfNewColors)\n",
    "    orderedListOfColorsString =('\\n').join(orderedListOfColors)\n",
    "    outfile = open(\"NewColors.txt\", 'w')\n",
    "    outfile.write(orderedListOfColorsString)\n",
    "    outfile.close()\n",
    "\n",
    "    \n",
    "setOfNewColors = getSetOfNewColors()\n",
    "createFileOfNewColors(setOfNewColors)\n"
   ]
  },
  {
   "cell_type": "code",
   "execution_count": null,
   "metadata": {},
   "outputs": [],
   "source": []
  }
 ],
 "metadata": {
  "kernelspec": {
   "display_name": "Python 3",
   "language": "python",
   "name": "python3"
  },
  "language_info": {
   "codemirror_mode": {
    "name": "ipython",
    "version": 3
   },
   "file_extension": ".py",
   "mimetype": "text/x-python",
   "name": "python",
   "nbconvert_exporter": "python",
   "pygments_lexer": "ipython3",
   "version": "3.7.4"
  }
 },
 "nbformat": 4,
 "nbformat_minor": 4
}
