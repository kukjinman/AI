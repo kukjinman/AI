{
 "cells": [
  {
   "cell_type": "code",
   "execution_count": 16,
   "metadata": {},
   "outputs": [
    {
     "name": "stdout",
     "output_type": "stream",
     "text": [
      "Enter person;s name:kj\n",
      "Enter number of hours worked:45\n",
      "Enter hourly wage:20\n",
      "Pay for  Kj  :  $950.00\n"
     ]
    }
   ],
   "source": [
    "class Wages:\n",
    "    def __init__(self):\n",
    "        self.name = \"\"\n",
    "        self.working_hour = 0\n",
    "        self.wage = 0\n",
    "        \n",
    "    def payForWeek(self):\n",
    "        ret = 0\n",
    "        if self.working_hour > 40:\n",
    "            ret += self.wage * 40\n",
    "            ret += (self.wage * 1.5) * (self.working_hour - 40)\n",
    "        return ret\n",
    "    \n",
    "\n",
    "obj1 = Wages()\n",
    "obj1.name = input('Enter person;s name:')\n",
    "obj1.working_hour = int(input('Enter number of hours worked:'))\n",
    "obj1.wage = int(input('Enter hourly wage:'))\n",
    "\n",
    "\n",
    "print(\"Pay for \" ,obj1.name.capitalize(),\" : \", '${:,.2f}'.format(obj1.payForWeek())  )"
   ]
  },
  {
   "cell_type": "code",
   "execution_count": 34,
   "metadata": {},
   "outputs": [],
   "source": [
    "infile1 = open('Pre1990.txt','r')\n",
    "infile2 = open('Retired.txt', 'r')\n",
    "infile3 = open('Added.txt','r')\n",
    "\n",
    "sdata1 = {line for line in infile1}\n",
    "sdata2 = {line for line in infile2}\n",
    "sdata3 = {line for line in infile3}\n",
    "    \n",
    "sdata1 = sdata1.union(sdata3)\n",
    "outfile1 = open('answer.txt','w')\n",
    "\n",
    "sdata1 = sdata1 - sdata2\n",
    "\n",
    "ansdata = sorted(sdata1)\n",
    "outfile1.writelines(list(ansdata))\n",
    "\n",
    "infile1.close()\n",
    "infile2.close()\n",
    "infile3.close()\n",
    "\n",
    "outfile1.close()"
   ]
  },
  {
   "cell_type": "code",
   "execution_count": null,
   "metadata": {},
   "outputs": [],
   "source": []
  },
  {
   "cell_type": "code",
   "execution_count": null,
   "metadata": {},
   "outputs": [],
   "source": []
  }
 ],
 "metadata": {
  "kernelspec": {
   "display_name": "Python 3",
   "language": "python",
   "name": "python3"
  },
  "language_info": {
   "codemirror_mode": {
    "name": "ipython",
    "version": 3
   },
   "file_extension": ".py",
   "mimetype": "text/x-python",
   "name": "python",
   "nbconvert_exporter": "python",
   "pygments_lexer": "ipython3",
   "version": "3.7.4"
  }
 },
 "nbformat": 4,
 "nbformat_minor": 4
}
