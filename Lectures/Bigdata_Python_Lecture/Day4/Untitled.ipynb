{
 "cells": [
  {
   "cell_type": "code",
   "execution_count": 2,
   "metadata": {},
   "outputs": [],
   "source": [
    "import pandas as pd\n",
    "\n",
    "df_1 = pd.DataFrame({\n",
    "    '학교': ['서울대', '서강대', '부산대', '충남대', '경북대'],\n",
    "    '지역': ['서울', '서울', '부산', '대전','대구'],\n",
    "    '학생수':['10,712','8,179','11,935','10,991','11,314'],\n",
    "    '학과 수': ['56', '45', '58','51','59'],\n",
    "    '평균등록금' : ['2,110,000','5,340,000','2,430,000','2,347,000','2,522,000']},\\\n",
    "    columns=['학교', '지역', '학생수', '학과 수', '평균등록금'])\n",
    "\n",
    "df_2 = pd.DataFrame({\n",
    "    '학교평가등급': ['B+', 'A', 'A', 'A-', 'A+'],\n",
    "    '학생만족도':['81점','79점','77점','84점','82점'],\n",
    "    '취업자수': ['5,122명', '4,987명', '5,001명','5,117명','4,777명'],\n",
    "     'area': ['서울', '서울', '부산', '대전','대구'],\n",
    "    '면적' : ['9,122','7,101','9,095','8,873','9,002']\n",
    "})"
   ]
  },
  {
   "cell_type": "code",
   "execution_count": 5,
   "metadata": {},
   "outputs": [],
   "source": [
    "df1 = pd.DataFrame({\n",
    "    '매출' : [10000000, 12000000, 9000000, 6000000, 8000000, 1100000],\n",
    "    '비용' : [15000000, 1300000, 1200000, 9000000, 9900000, 9500000]},\n",
    "    index = ['1월', '2월', '3월', '4월', '5월', '6월'])\n",
    "\n",
    "df2 = pd.DataFrame({\n",
    "    '매출' : [13000000, 14000000, 17000000, 15400000, 16500000, 16600000],\n",
    "    '비용' : [11000000, 10400000, 11000000, 12100000, 9000000, 9500000]},\n",
    "    index = ['7월', '8월', '9월', '10월', '11월', '12월'])"
   ]
  },
  {
   "cell_type": "code",
   "execution_count": null,
   "metadata": {},
   "outputs": [],
   "source": []
  }
 ],
 "metadata": {
  "kernelspec": {
   "display_name": "Python 3",
   "language": "python",
   "name": "python3"
  },
  "language_info": {
   "codemirror_mode": {
    "name": "ipython",
    "version": 3
   },
   "file_extension": ".py",
   "mimetype": "text/x-python",
   "name": "python",
   "nbconvert_exporter": "python",
   "pygments_lexer": "ipython3",
   "version": "3.7.4"
  }
 },
 "nbformat": 4,
 "nbformat_minor": 4
}
